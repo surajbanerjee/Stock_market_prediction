{
 "cells": [
  {
   "cell_type": "code",
   "execution_count": 1,
   "id": "040f7186-0996-4920-b48a-508815dd4746",
   "metadata": {},
   "outputs": [],
   "source": [
    "import numpy as np\n",
    "import pandas as pd\n",
    "import matplotlib.pyplot as plt\n",
    "import pandas_datareader as data\n",
    "from alpha_vantage.timeseries import TimeSeries"
   ]
  },
  {
   "cell_type": "code",
   "execution_count": 2,
   "id": "4393b7df-75e7-4476-b61b-4b4b9ff2e76e",
   "metadata": {},
   "outputs": [
    {
     "data": {
      "text/html": [
       "<div>\n",
       "<style scoped>\n",
       "    .dataframe tbody tr th:only-of-type {\n",
       "        vertical-align: middle;\n",
       "    }\n",
       "\n",
       "    .dataframe tbody tr th {\n",
       "        vertical-align: top;\n",
       "    }\n",
       "\n",
       "    .dataframe thead th {\n",
       "        text-align: right;\n",
       "    }\n",
       "</style>\n",
       "<table border=\"1\" class=\"dataframe\">\n",
       "  <thead>\n",
       "    <tr style=\"text-align: right;\">\n",
       "      <th></th>\n",
       "      <th>1. open</th>\n",
       "      <th>2. high</th>\n",
       "      <th>3. low</th>\n",
       "      <th>4. close</th>\n",
       "      <th>5. volume</th>\n",
       "    </tr>\n",
       "    <tr>\n",
       "      <th>date</th>\n",
       "      <th></th>\n",
       "      <th></th>\n",
       "      <th></th>\n",
       "      <th></th>\n",
       "      <th></th>\n",
       "    </tr>\n",
       "  </thead>\n",
       "  <tbody>\n",
       "    <tr>\n",
       "      <th>2023-12-29</th>\n",
       "      <td>255.10</td>\n",
       "      <td>255.19</td>\n",
       "      <td>247.43</td>\n",
       "      <td>248.48</td>\n",
       "      <td>100891578.0</td>\n",
       "    </tr>\n",
       "    <tr>\n",
       "      <th>2023-12-28</th>\n",
       "      <td>263.66</td>\n",
       "      <td>265.13</td>\n",
       "      <td>252.71</td>\n",
       "      <td>253.18</td>\n",
       "      <td>113619943.0</td>\n",
       "    </tr>\n",
       "    <tr>\n",
       "      <th>2023-12-27</th>\n",
       "      <td>258.35</td>\n",
       "      <td>263.34</td>\n",
       "      <td>257.52</td>\n",
       "      <td>261.44</td>\n",
       "      <td>105853348.0</td>\n",
       "    </tr>\n",
       "    <tr>\n",
       "      <th>2023-12-26</th>\n",
       "      <td>254.49</td>\n",
       "      <td>257.97</td>\n",
       "      <td>252.91</td>\n",
       "      <td>256.61</td>\n",
       "      <td>86892382.0</td>\n",
       "    </tr>\n",
       "    <tr>\n",
       "      <th>2023-12-22</th>\n",
       "      <td>256.76</td>\n",
       "      <td>258.22</td>\n",
       "      <td>251.37</td>\n",
       "      <td>252.54</td>\n",
       "      <td>93370094.0</td>\n",
       "    </tr>\n",
       "  </tbody>\n",
       "</table>\n",
       "</div>"
      ],
      "text/plain": [
       "            1. open  2. high  3. low  4. close    5. volume\n",
       "date                                                       \n",
       "2023-12-29   255.10   255.19  247.43    248.48  100891578.0\n",
       "2023-12-28   263.66   265.13  252.71    253.18  113619943.0\n",
       "2023-12-27   258.35   263.34  257.52    261.44  105853348.0\n",
       "2023-12-26   254.49   257.97  252.91    256.61   86892382.0\n",
       "2023-12-22   256.76   258.22  251.37    252.54   93370094.0"
      ]
     },
     "execution_count": 2,
     "metadata": {},
     "output_type": "execute_result"
    }
   ],
   "source": [
    "start = '2010-01-01'\n",
    "end = '2023-12-31'\n",
    "\n",
    "ts = TimeSeries(key='E9EYV24M353PT2TL', output_format='pandas')\n",
    "df, meta_data = ts.get_daily(symbol='TSLA', outputsize='full')  \n",
    "# 'full' retrieves all available historical data\n",
    "df = df[(df.index >= start) & (df.index <= end)]\n",
    "df.head()"
   ]
  },
  {
   "cell_type": "code",
   "execution_count": 3,
   "id": "f47f292b-748e-41fb-8ffe-5f8bf41c0a76",
   "metadata": {},
   "outputs": [
    {
     "data": {
      "text/html": [
       "<div>\n",
       "<style scoped>\n",
       "    .dataframe tbody tr th:only-of-type {\n",
       "        vertical-align: middle;\n",
       "    }\n",
       "\n",
       "    .dataframe tbody tr th {\n",
       "        vertical-align: top;\n",
       "    }\n",
       "\n",
       "    .dataframe thead th {\n",
       "        text-align: right;\n",
       "    }\n",
       "</style>\n",
       "<table border=\"1\" class=\"dataframe\">\n",
       "  <thead>\n",
       "    <tr style=\"text-align: right;\">\n",
       "      <th></th>\n",
       "      <th>1. open</th>\n",
       "      <th>2. high</th>\n",
       "      <th>3. low</th>\n",
       "      <th>4. close</th>\n",
       "      <th>5. volume</th>\n",
       "    </tr>\n",
       "    <tr>\n",
       "      <th>date</th>\n",
       "      <th></th>\n",
       "      <th></th>\n",
       "      <th></th>\n",
       "      <th></th>\n",
       "      <th></th>\n",
       "    </tr>\n",
       "  </thead>\n",
       "  <tbody>\n",
       "    <tr>\n",
       "      <th>2010-07-06</th>\n",
       "      <td>20.00</td>\n",
       "      <td>20.0000</td>\n",
       "      <td>15.83</td>\n",
       "      <td>16.11</td>\n",
       "      <td>6866900.0</td>\n",
       "    </tr>\n",
       "    <tr>\n",
       "      <th>2010-07-02</th>\n",
       "      <td>23.00</td>\n",
       "      <td>23.1000</td>\n",
       "      <td>18.71</td>\n",
       "      <td>19.20</td>\n",
       "      <td>5139800.0</td>\n",
       "    </tr>\n",
       "    <tr>\n",
       "      <th>2010-07-01</th>\n",
       "      <td>25.00</td>\n",
       "      <td>25.9200</td>\n",
       "      <td>20.27</td>\n",
       "      <td>21.96</td>\n",
       "      <td>8218800.0</td>\n",
       "    </tr>\n",
       "    <tr>\n",
       "      <th>2010-06-30</th>\n",
       "      <td>25.79</td>\n",
       "      <td>30.4192</td>\n",
       "      <td>23.30</td>\n",
       "      <td>23.83</td>\n",
       "      <td>17187100.0</td>\n",
       "    </tr>\n",
       "    <tr>\n",
       "      <th>2010-06-29</th>\n",
       "      <td>19.00</td>\n",
       "      <td>25.0000</td>\n",
       "      <td>17.54</td>\n",
       "      <td>23.89</td>\n",
       "      <td>18766300.0</td>\n",
       "    </tr>\n",
       "  </tbody>\n",
       "</table>\n",
       "</div>"
      ],
      "text/plain": [
       "            1. open  2. high  3. low  4. close   5. volume\n",
       "date                                                      \n",
       "2010-07-06    20.00  20.0000   15.83     16.11   6866900.0\n",
       "2010-07-02    23.00  23.1000   18.71     19.20   5139800.0\n",
       "2010-07-01    25.00  25.9200   20.27     21.96   8218800.0\n",
       "2010-06-30    25.79  30.4192   23.30     23.83  17187100.0\n",
       "2010-06-29    19.00  25.0000   17.54     23.89  18766300.0"
      ]
     },
     "execution_count": 3,
     "metadata": {},
     "output_type": "execute_result"
    }
   ],
   "source": [
    "df.tail()"
   ]
  },
  {
   "cell_type": "code",
   "execution_count": 4,
   "id": "a120f6cf-1e7d-4ced-8468-0cfc31eacedd",
   "metadata": {
    "scrolled": true
   },
   "outputs": [
    {
     "data": {
      "text/html": [
       "<div>\n",
       "<style scoped>\n",
       "    .dataframe tbody tr th:only-of-type {\n",
       "        vertical-align: middle;\n",
       "    }\n",
       "\n",
       "    .dataframe tbody tr th {\n",
       "        vertical-align: top;\n",
       "    }\n",
       "\n",
       "    .dataframe thead th {\n",
       "        text-align: right;\n",
       "    }\n",
       "</style>\n",
       "<table border=\"1\" class=\"dataframe\">\n",
       "  <thead>\n",
       "    <tr style=\"text-align: right;\">\n",
       "      <th></th>\n",
       "      <th>date</th>\n",
       "      <th>1. open</th>\n",
       "      <th>2. high</th>\n",
       "      <th>3. low</th>\n",
       "      <th>4. close</th>\n",
       "      <th>5. volume</th>\n",
       "    </tr>\n",
       "  </thead>\n",
       "  <tbody>\n",
       "    <tr>\n",
       "      <th>0</th>\n",
       "      <td>2023-12-29</td>\n",
       "      <td>255.10</td>\n",
       "      <td>255.19</td>\n",
       "      <td>247.43</td>\n",
       "      <td>248.48</td>\n",
       "      <td>100891578.0</td>\n",
       "    </tr>\n",
       "    <tr>\n",
       "      <th>1</th>\n",
       "      <td>2023-12-28</td>\n",
       "      <td>263.66</td>\n",
       "      <td>265.13</td>\n",
       "      <td>252.71</td>\n",
       "      <td>253.18</td>\n",
       "      <td>113619943.0</td>\n",
       "    </tr>\n",
       "    <tr>\n",
       "      <th>2</th>\n",
       "      <td>2023-12-27</td>\n",
       "      <td>258.35</td>\n",
       "      <td>263.34</td>\n",
       "      <td>257.52</td>\n",
       "      <td>261.44</td>\n",
       "      <td>105853348.0</td>\n",
       "    </tr>\n",
       "    <tr>\n",
       "      <th>3</th>\n",
       "      <td>2023-12-26</td>\n",
       "      <td>254.49</td>\n",
       "      <td>257.97</td>\n",
       "      <td>252.91</td>\n",
       "      <td>256.61</td>\n",
       "      <td>86892382.0</td>\n",
       "    </tr>\n",
       "    <tr>\n",
       "      <th>4</th>\n",
       "      <td>2023-12-22</td>\n",
       "      <td>256.76</td>\n",
       "      <td>258.22</td>\n",
       "      <td>251.37</td>\n",
       "      <td>252.54</td>\n",
       "      <td>93370094.0</td>\n",
       "    </tr>\n",
       "  </tbody>\n",
       "</table>\n",
       "</div>"
      ],
      "text/plain": [
       "        date  1. open  2. high  3. low  4. close    5. volume\n",
       "0 2023-12-29   255.10   255.19  247.43    248.48  100891578.0\n",
       "1 2023-12-28   263.66   265.13  252.71    253.18  113619943.0\n",
       "2 2023-12-27   258.35   263.34  257.52    261.44  105853348.0\n",
       "3 2023-12-26   254.49   257.97  252.91    256.61   86892382.0\n",
       "4 2023-12-22   256.76   258.22  251.37    252.54   93370094.0"
      ]
     },
     "execution_count": 4,
     "metadata": {},
     "output_type": "execute_result"
    }
   ],
   "source": [
    "df = df.reset_index()\n",
    "df.head()"
   ]
  },
  {
   "cell_type": "code",
   "execution_count": 5,
   "id": "e4e506cd-bb37-4b0e-befd-cea3cddf0929",
   "metadata": {
    "scrolled": true
   },
   "outputs": [
    {
     "data": {
      "text/html": [
       "<div>\n",
       "<style scoped>\n",
       "    .dataframe tbody tr th:only-of-type {\n",
       "        vertical-align: middle;\n",
       "    }\n",
       "\n",
       "    .dataframe tbody tr th {\n",
       "        vertical-align: top;\n",
       "    }\n",
       "\n",
       "    .dataframe thead th {\n",
       "        text-align: right;\n",
       "    }\n",
       "</style>\n",
       "<table border=\"1\" class=\"dataframe\">\n",
       "  <thead>\n",
       "    <tr style=\"text-align: right;\">\n",
       "      <th></th>\n",
       "      <th>1. open</th>\n",
       "      <th>2. high</th>\n",
       "      <th>3. low</th>\n",
       "      <th>4. close</th>\n",
       "      <th>5. volume</th>\n",
       "    </tr>\n",
       "  </thead>\n",
       "  <tbody>\n",
       "    <tr>\n",
       "      <th>0</th>\n",
       "      <td>255.10</td>\n",
       "      <td>255.19</td>\n",
       "      <td>247.43</td>\n",
       "      <td>248.48</td>\n",
       "      <td>100891578.0</td>\n",
       "    </tr>\n",
       "    <tr>\n",
       "      <th>1</th>\n",
       "      <td>263.66</td>\n",
       "      <td>265.13</td>\n",
       "      <td>252.71</td>\n",
       "      <td>253.18</td>\n",
       "      <td>113619943.0</td>\n",
       "    </tr>\n",
       "    <tr>\n",
       "      <th>2</th>\n",
       "      <td>258.35</td>\n",
       "      <td>263.34</td>\n",
       "      <td>257.52</td>\n",
       "      <td>261.44</td>\n",
       "      <td>105853348.0</td>\n",
       "    </tr>\n",
       "    <tr>\n",
       "      <th>3</th>\n",
       "      <td>254.49</td>\n",
       "      <td>257.97</td>\n",
       "      <td>252.91</td>\n",
       "      <td>256.61</td>\n",
       "      <td>86892382.0</td>\n",
       "    </tr>\n",
       "    <tr>\n",
       "      <th>4</th>\n",
       "      <td>256.76</td>\n",
       "      <td>258.22</td>\n",
       "      <td>251.37</td>\n",
       "      <td>252.54</td>\n",
       "      <td>93370094.0</td>\n",
       "    </tr>\n",
       "  </tbody>\n",
       "</table>\n",
       "</div>"
      ],
      "text/plain": [
       "   1. open  2. high  3. low  4. close    5. volume\n",
       "0   255.10   255.19  247.43    248.48  100891578.0\n",
       "1   263.66   265.13  252.71    253.18  113619943.0\n",
       "2   258.35   263.34  257.52    261.44  105853348.0\n",
       "3   254.49   257.97  252.91    256.61   86892382.0\n",
       "4   256.76   258.22  251.37    252.54   93370094.0"
      ]
     },
     "execution_count": 5,
     "metadata": {},
     "output_type": "execute_result"
    }
   ],
   "source": [
    "df = df.drop(['date'], axis = 1)\n",
    "df.head()"
   ]
  },
  {
   "cell_type": "code",
   "execution_count": 6,
   "id": "9c6ce64c-0903-4cf3-877f-c4e0bca387db",
   "metadata": {},
   "outputs": [
    {
     "name": "stdout",
     "output_type": "stream",
     "text": [
      "Index(['1. open', '2. high', '3. low', '4. close', '5. volume'], dtype='object')\n"
     ]
    }
   ],
   "source": [
    "print(df.columns)"
   ]
  },
  {
   "cell_type": "code",
   "execution_count": 7,
   "id": "e334214c-2e4b-414d-ba30-774fe129f06b",
   "metadata": {
    "scrolled": true
   },
   "outputs": [
    {
     "data": {
      "text/plain": [
       "[<matplotlib.lines.Line2D at 0x1f6ef83cdd0>]"
      ]
     },
     "execution_count": 7,
     "metadata": {},
     "output_type": "execute_result"
    },
    {
     "data": {
      "image/png": "[encoded data removed]",
      "text/plain": [
       "<Figure size 640x480 with 1 Axes>"
      ]
     },
     "metadata": {},
     "output_type": "display_data"
    }
   ],
   "source": [
    "plt.plot(df['4. close'])"
   ]
  },
  {
   "cell_type": "code",
   "execution_count": 8,
   "id": "5a1a4b08-e691-4577-b2ca-6cbf1afc9f2e",
   "metadata": {},
   "outputs": [
    {
     "data": {
      "text/plain": [
       "0            NaN\n",
       "1            NaN\n",
       "2            NaN\n",
       "3            NaN\n",
       "4            NaN\n",
       "          ...   \n",
       "3395    21.38745\n",
       "3396    21.23375\n",
       "3397    21.11935\n",
       "3398    21.04775\n",
       "3399    20.98775\n",
       "Name: 4. close, Length: 3400, dtype: float64"
      ]
     },
     "execution_count": 8,
     "metadata": {},
     "output_type": "execute_result"
    }
   ],
   "source": [
    "ma100 = df['4. close'].rolling(100).mean()\n",
    "ma100"
   ]
  },
  {
   "cell_type": "code",
   "execution_count": 9,
   "id": "5a6497ad-41af-4a73-98ba-e8cd87b9ee6e",
   "metadata": {},
   "outputs": [
    {
     "data": {
      "text/plain": [
       "[<matplotlib.lines.Line2D at 0x1f6ee8fb5d0>]"
      ]
     },
     "execution_count": 9,
     "metadata": {},
     "output_type": "execute_result"
    },
    {
     "data": {
      "image/png": "[encoded data removed]",
      "text/plain": [
       "<Figure size 1200x600 with 1 Axes>"
      ]
     },
     "metadata": {},
     "output_type": "display_data"
    }
   ],
   "source": [
    "plt.figure(figsize = (12,6))\n",
    "plt.plot(df['4. close'])\n",
    "plt.plot(ma100, 'r')"
   ]
  },
  {
   "cell_type": "code",
   "execution_count": 10,
   "id": "f381c6e1-c31a-40c6-83c0-36daa2bbf211",
   "metadata": {},
   "outputs": [
    {
     "data": {
      "text/plain": [
       "0             NaN\n",
       "1             NaN\n",
       "2             NaN\n",
       "3             NaN\n",
       "4             NaN\n",
       "          ...    \n",
       "3395    23.785245\n",
       "3396    23.756095\n",
       "3397    23.737995\n",
       "3398    23.731445\n",
       "3399    23.726245\n",
       "Name: 4. close, Length: 3400, dtype: float64"
      ]
     },
     "execution_count": 10,
     "metadata": {},
     "output_type": "execute_result"
    }
   ],
   "source": [
    "ma200 = df['4. close'].rolling(200).mean()\n",
    "ma200"
   ]
  },
  {
   "cell_type": "code",
   "execution_count": 11,
   "id": "e10a5f5b-53ac-4a98-a67b-4b7739a57015",
   "metadata": {
    "scrolled": true
   },
   "outputs": [
    {
     "data": {
      "text/plain": [
       "[<matplotlib.lines.Line2D at 0x1f6ef992c10>]"
      ]
     },
     "execution_count": 11,
     "metadata": {},
     "output_type": "execute_result"
    },
    {
     "data": {
      "image/png": "[encoded data removed]",
      "text/plain": [
       "<Figure size 1200x600 with 1 Axes>"
      ]
     },
     "metadata": {},
     "output_type": "display_data"
    }
   ],
   "source": [
    "plt.figure(figsize = (12,6))\n",
    "plt.plot(df['4. close'])\n",
    "plt.plot(ma100, 'r')\n",
    "plt.plot(ma200, 'g')"
   ]
  },
  {
   "cell_type": "code",
   "execution_count": 12,
   "id": "0f907a4a-1ce7-4449-871b-dcaf7501dac6",
   "metadata": {},
   "outputs": [
    {
     "data": {
      "text/plain": [
       "(3400, 5)"
      ]
     },
     "execution_count": 12,
     "metadata": {},
     "output_type": "execute_result"
    }
   ],
   "source": [
    "df.shape"
   ]
  },
  {
   "cell_type": "code",
   "execution_count": 13,
   "id": "fdf1fa91-36e2-4c97-99e6-2fd0ce1019cb",
   "metadata": {},
   "outputs": [
    {
     "name": "stdout",
     "output_type": "stream",
     "text": [
      "(2380, 1)\n",
      "(1020, 1)\n"
     ]
    }
   ],
   "source": [
    "#spliting data into training and testing\n",
    "\n",
    "data_training = pd.DataFrame(df['4. close'][0:int(len(df)*0.70)])\n",
    "data_testing = pd.DataFrame(df['4. close'][int(len(df)*0.70): int(len(df))])\n",
    "\n",
    "print(data_training.shape)\n",
    "print(data_testing.shape)"
   ]
  },
  {
   "cell_type": "code",
   "execution_count": 14,
   "id": "84e480a9-b006-4add-b783-4f7ccd9222a4",
   "metadata": {},
   "outputs": [
    {
     "data": {
      "text/html": [
       "<div>\n",
       "<style scoped>\n",
       "    .dataframe tbody tr th:only-of-type {\n",
       "        vertical-align: middle;\n",
       "    }\n",
       "\n",
       "    .dataframe tbody tr th {\n",
       "        vertical-align: top;\n",
       "    }\n",
       "\n",
       "    .dataframe thead th {\n",
       "        text-align: right;\n",
       "    }\n",
       "</style>\n",
       "<table border=\"1\" class=\"dataframe\">\n",
       "  <thead>\n",
       "    <tr style=\"text-align: right;\">\n",
       "      <th></th>\n",
       "      <th>4. close</th>\n",
       "    </tr>\n",
       "  </thead>\n",
       "  <tbody>\n",
       "    <tr>\n",
       "      <th>0</th>\n",
       "      <td>248.48</td>\n",
       "    </tr>\n",
       "    <tr>\n",
       "      <th>1</th>\n",
       "      <td>253.18</td>\n",
       "    </tr>\n",
       "    <tr>\n",
       "      <th>2</th>\n",
       "      <td>261.44</td>\n",
       "    </tr>\n",
       "    <tr>\n",
       "      <th>3</th>\n",
       "      <td>256.61</td>\n",
       "    </tr>\n",
       "    <tr>\n",
       "      <th>4</th>\n",
       "      <td>252.54</td>\n",
       "    </tr>\n",
       "  </tbody>\n",
       "</table>\n",
       "</div>"
      ],
      "text/plain": [
       "   4. close\n",
       "0    248.48\n",
       "1    253.18\n",
       "2    261.44\n",
       "3    256.61\n",
       "4    252.54"
      ]
     },
     "execution_count": 14,
     "metadata": {},
     "output_type": "execute_result"
    }
   ],
   "source": [
    "data_training.head()"
   ]
  },
  {
   "cell_type": "code",
   "execution_count": 15,
   "id": "13304f79-5cfd-4ffc-8b63-c7445d38d8c7",
   "metadata": {},
   "outputs": [
    {
     "data": {
      "text/html": [
       "<div>\n",
       "<style scoped>\n",
       "    .dataframe tbody tr th:only-of-type {\n",
       "        vertical-align: middle;\n",
       "    }\n",
       "\n",
       "    .dataframe tbody tr th {\n",
       "        vertical-align: top;\n",
       "    }\n",
       "\n",
       "    .dataframe thead th {\n",
       "        text-align: right;\n",
       "    }\n",
       "</style>\n",
       "<table border=\"1\" class=\"dataframe\">\n",
       "  <thead>\n",
       "    <tr style=\"text-align: right;\">\n",
       "      <th></th>\n",
       "      <th>4. close</th>\n",
       "    </tr>\n",
       "  </thead>\n",
       "  <tbody>\n",
       "    <tr>\n",
       "      <th>2380</th>\n",
       "      <td>215.40</td>\n",
       "    </tr>\n",
       "    <tr>\n",
       "      <th>2381</th>\n",
       "      <td>217.16</td>\n",
       "    </tr>\n",
       "    <tr>\n",
       "      <th>2382</th>\n",
       "      <td>219.58</td>\n",
       "    </tr>\n",
       "    <tr>\n",
       "      <th>2383</th>\n",
       "      <td>226.70</td>\n",
       "    </tr>\n",
       "    <tr>\n",
       "      <th>2384</th>\n",
       "      <td>218.13</td>\n",
       "    </tr>\n",
       "  </tbody>\n",
       "</table>\n",
       "</div>"
      ],
      "text/plain": [
       "      4. close\n",
       "2380    215.40\n",
       "2381    217.16\n",
       "2382    219.58\n",
       "2383    226.70\n",
       "2384    218.13"
      ]
     },
     "execution_count": 15,
     "metadata": {},
     "output_type": "execute_result"
    }
   ],
   "source": [
    "data_testing.head()"
   ]
  },
  {
   "cell_type": "code",
   "execution_count": 16,
   "id": "b9ecd42c-8aba-4274-90dd-244eff1846bf",
   "metadata": {},
   "outputs": [],
   "source": [
    "from sklearn.preprocessing import MinMaxScaler\n",
    "scaler = MinMaxScaler(feature_range=(0,1))"
   ]
  },
  {
   "cell_type": "code",
   "execution_count": 17,
   "id": "7fabb6ef-c015-42ea-90ee-078697be7e61",
   "metadata": {},
   "outputs": [
    {
     "data": {
      "text/plain": [
       "array([[0.065886  ],\n",
       "       [0.0680919 ],\n",
       "       [0.07196865],\n",
       "       ...,\n",
       "       [0.05232206],\n",
       "       [0.05277263],\n",
       "       [0.05252862]])"
      ]
     },
     "execution_count": 17,
     "metadata": {},
     "output_type": "execute_result"
    }
   ],
   "source": [
    "data_training_array = scaler.fit_transform(data_training)\n",
    "data_training_array"
   ]
  },
  {
   "cell_type": "code",
   "execution_count": 18,
   "id": "f30a92f2-dad7-4f48-abe2-2f01dbe98e41",
   "metadata": {},
   "outputs": [],
   "source": [
    "x_train = []\n",
    "y_train = []\n",
    "\n",
    "for i in range(100, data_training_array.shape[0]):\n",
    "    x_train.append(data_training_array[i-100: i])\n",
    "    y_train.append(data_training_array[i,0])\n",
    "\n",
    "x_train, y_train = np.array(x_train), np.array(y_train)"
   ]
  },
  {
   "cell_type": "code",
   "execution_count": 19,
   "id": "7f36161e-b0c5-4095-8a9a-fe642fc2ca48",
   "metadata": {},
   "outputs": [
    {
     "data": {
      "text/plain": [
       "(2280, 100, 1)"
      ]
     },
     "execution_count": 19,
     "metadata": {},
     "output_type": "execute_result"
    }
   ],
   "source": [
    "x_train.shape"
   ]
  },
  {
   "cell_type": "code",
   "execution_count": 20,
   "id": "918c0544-f944-4f51-9c55-b683d99d1011",
   "metadata": {},
   "outputs": [],
   "source": [
    "# ML model"
   ]
  },
  {
   "cell_type": "code",
   "execution_count": 21,
   "id": "881d129b-531d-4471-8297-059b77e6de8a",
   "metadata": {},
   "outputs": [],
   "source": [
    "import warnings\n",
    "warnings.filterwarnings(\"ignore\", category=DeprecationWarning, module=\"tensorflow\")"
   ]
  },
  {
   "cell_type": "code",
   "execution_count": 22,
   "id": "46908ad6-689c-49d7-8a0c-7e5a32c4c8cc",
   "metadata": {
    "scrolled": true
   },
   "outputs": [
    {
     "name": "stdout",
     "output_type": "stream",
     "text": [
      "WARNING:tensorflow:From C:\\Users\\suraj\\anaconda3\\Lib\\site-packages\\keras\\src\\losses.py:2976: The name tf.losses.sparse_softmax_cross_entropy is deprecated. Please use tf.compat.v1.losses.sparse_softmax_cross_entropy instead.\n",
      "\n"
     ]
    }
   ],
   "source": [
    "from keras.layers import Dense, Dropout, LSTM\n",
    "from keras.models import Sequential"
   ]
  },
  {
   "cell_type": "code",
   "execution_count": 23,
   "id": "3d4539d1-3056-4d72-bf1f-4bbb0bc6008a",
   "metadata": {},
   "outputs": [],
   "source": [
    "#tf.losses.sparse_softmax_cross_entropy is deprecated, and you're encouraged to use tf.compat.v1.losses.sparse_softmax_cross_entropy instead. TensorFlow often deprecates certain functions or modules in newer releases."
   ]
  },
  {
   "cell_type": "code",
   "execution_count": 24,
   "id": "7a180f6d-306b-4f47-a3d5-f8ef0dfd0495",
   "metadata": {},
   "outputs": [
    {
     "name": "stdout",
     "output_type": "stream",
     "text": [
      "WARNING:tensorflow:From C:\\Users\\suraj\\anaconda3\\Lib\\site-packages\\keras\\src\\backend.py:873: The name tf.get_default_graph is deprecated. Please use tf.compat.v1.get_default_graph instead.\n",
      "\n"
     ]
    }
   ],
   "source": [
    "model = Sequential()\n",
    "\n",
    "model.add(LSTM(units=50, activation='relu', return_sequences=True, input_shape=(x_train.shape[1], 1)))\n",
    "model.add(Dropout(0.2))\n",
    "\n",
    "model.add(LSTM(units=60, activation='relu', return_sequences=True))\n",
    "model.add(Dropout(0.3))\n",
    "\n",
    "model.add(LSTM(units=80, activation='relu', return_sequences=True))\n",
    "model.add(Dropout(0.4))\n",
    "\n",
    "model.add(LSTM(units=120, activation='relu'))\n",
    "model.add(Dropout(0.5))\n",
    "\n",
    "model.add(Dense(units=1))"
   ]
  },
  {
   "cell_type": "code",
   "execution_count": 25,
   "id": "dff99a27-86ec-456b-ac96-189feaf6f14d",
   "metadata": {},
   "outputs": [
    {
     "name": "stdout",
     "output_type": "stream",
     "text": [
      "Model: \"sequential\"\n",
      "_________________________________________________________________\n",
      " Layer (type)                Output Shape              Param #   \n",
      "=================================================================\n",
      " lstm (LSTM)                 (None, 100, 50)           10400     \n",
      "                                                                 \n",
      " dropout (Dropout)           (None, 100, 50)           0         \n",
      "                                                                 \n",
      " lstm_1 (LSTM)               (None, 100, 60)           26640     \n",
      "                                                                 \n",
      " dropout_1 (Dropout)         (None, 100, 60)           0         \n",
      "                                                                 \n",
      " lstm_2 (LSTM)               (None, 100, 80)           45120     \n",
      "                                                                 \n",
      " dropout_2 (Dropout)         (None, 100, 80)           0         \n",
      "                                                                 \n",
      " lstm_3 (LSTM)               (None, 120)               96480     \n",
      "                                                                 \n",
      " dropout_3 (Dropout)         (None, 120)               0         \n",
      "                                                                 \n",
      " dense (Dense)               (None, 1)                 121       \n",
      "                                                                 \n",
      "=================================================================\n",
      "Total params: 178761 (698.29 KB)\n",
      "Trainable params: 178761 (698.29 KB)\n",
      "Non-trainable params: 0 (0.00 Byte)\n",
      "_________________________________________________________________\n"
     ]
    }
   ],
   "source": [
    "model.summary()"
   ]
  },
  {
   "cell_type": "code",
   "execution_count": 26,
   "id": "51568893-5877-4317-b5b9-63e5554e4cfe",
   "metadata": {
    "scrolled": true
   },
   "outputs": [
    {
     "name": "stdout",
     "output_type": "stream",
     "text": [
      "WARNING:tensorflow:From C:\\Users\\suraj\\anaconda3\\Lib\\site-packages\\keras\\src\\optimizers\\__init__.py:309: The name tf.train.Optimizer is deprecated. Please use tf.compat.v1.train.Optimizer instead.\n",
      "\n",
      "Epoch 1/50\n",
      "WARNING:tensorflow:From C:\\Users\\suraj\\anaconda3\\Lib\\site-packages\\keras\\src\\utils\\tf_utils.py:492: The name tf.ragged.RaggedTensorValue is deprecated. Please use tf.compat.v1.ragged.RaggedTensorValue instead.\n",
      "\n",
      "72/72 [==============================] - 9s 84ms/step - loss: 0.0104\n",
      "Epoch 2/50\n",
      "72/72 [==============================] - 6s 86ms/step - loss: 0.0048\n",
      "Epoch 3/50\n",
      "72/72 [==============================] - 6s 84ms/step - loss: 0.0042\n",
      "Epoch 4/50\n",
      "72/72 [==============================] - 6s 87ms/step - loss: 0.0039\n",
      "Epoch 5/50\n",
      "72/72 [==============================] - 6s 89ms/step - loss: 0.0038\n",
      "Epoch 6/50\n",
      "72/72 [==============================] - 6s 88ms/step - loss: 0.0032\n",
      "Epoch 7/50\n",
      "72/72 [==============================] - 6s 89ms/step - loss: 0.0030\n",
      "Epoch 8/50\n",
      "72/72 [==============================] - 6s 89ms/step - loss: 0.0029\n",
      "Epoch 9/50\n",
      "72/72 [==============================] - 6s 88ms/step - loss: 0.0023\n",
      "Epoch 10/50\n",
      "72/72 [==============================] - 7s 94ms/step - loss: 0.0023\n",
      "Epoch 11/50\n",
      "72/72 [==============================] - 6s 90ms/step - loss: 0.0022\n",
      "Epoch 12/50\n",
      "72/72 [==============================] - 6s 90ms/step - loss: 0.0024\n",
      "Epoch 13/50\n",
      "72/72 [==============================] - 6s 88ms/step - loss: 0.0021\n",
      "Epoch 14/50\n",
      "72/72 [==============================] - 6s 90ms/step - loss: 0.0020\n",
      "Epoch 15/50\n",
      "72/72 [==============================] - 7s 93ms/step - loss: 0.0019\n",
      "Epoch 16/50\n",
      "72/72 [==============================] - 6s 90ms/step - loss: 0.0017\n",
      "Epoch 17/50\n",
      "72/72 [==============================] - 6s 90ms/step - loss: 0.0017\n",
      "Epoch 18/50\n",
      "72/72 [==============================] - 7s 93ms/step - loss: 0.0017\n",
      "Epoch 19/50\n",
      "72/72 [==============================] - 6s 89ms/step - loss: 0.0017\n",
      "Epoch 20/50\n",
      "72/72 [==============================] - 6s 89ms/step - loss: 0.0018\n",
      "Epoch 21/50\n",
      "72/72 [==============================] - 6s 90ms/step - loss: 0.0019\n",
      "Epoch 22/50\n",
      "72/72 [==============================] - 6s 90ms/step - loss: 0.0017\n",
      "Epoch 23/50\n",
      "72/72 [==============================] - 7s 92ms/step - loss: 0.0017\n",
      "Epoch 24/50\n",
      "72/72 [==============================] - 6s 87ms/step - loss: 0.0018\n",
      "Epoch 25/50\n",
      "72/72 [==============================] - 6s 89ms/step - loss: 0.0018\n",
      "Epoch 26/50\n",
      "72/72 [==============================] - 7s 96ms/step - loss: 0.0016\n",
      "Epoch 27/50\n",
      "72/72 [==============================] - 132s 2s/step - loss: 0.0015\n",
      "Epoch 28/50\n",
      "72/72 [==============================] - 6s 88ms/step - loss: 0.0015\n",
      "Epoch 29/50\n",
      "72/72 [==============================] - 7s 92ms/step - loss: 0.0014\n",
      "Epoch 30/50\n",
      "72/72 [==============================] - 6s 89ms/step - loss: 0.0014\n",
      "Epoch 31/50\n",
      "72/72 [==============================] - 6s 89ms/step - loss: 0.0014\n",
      "Epoch 32/50\n",
      "72/72 [==============================] - 6s 89ms/step - loss: 0.0015\n",
      "Epoch 33/50\n",
      "72/72 [==============================] - 6s 90ms/step - loss: 0.0016\n",
      "Epoch 34/50\n",
      "72/72 [==============================] - 6s 90ms/step - loss: 0.0015\n",
      "Epoch 35/50\n",
      "72/72 [==============================] - 6s 88ms/step - loss: 0.0014\n",
      "Epoch 36/50\n",
      "72/72 [==============================] - 6s 87ms/step - loss: 0.0013\n",
      "Epoch 37/50\n",
      "72/72 [==============================] - 7s 92ms/step - loss: 0.0014\n",
      "Epoch 38/50\n",
      "72/72 [==============================] - 6s 89ms/step - loss: 0.0012\n",
      "Epoch 39/50\n",
      "72/72 [==============================] - 6s 87ms/step - loss: 0.0015\n",
      "Epoch 40/50\n",
      "72/72 [==============================] - 6s 87ms/step - loss: 0.0015\n",
      "Epoch 41/50\n",
      "72/72 [==============================] - 6s 87ms/step - loss: 0.0013\n",
      "Epoch 42/50\n",
      "72/72 [==============================] - 6s 87ms/step - loss: 0.0012\n",
      "Epoch 43/50\n",
      "72/72 [==============================] - 6s 87ms/step - loss: 0.0011\n",
      "Epoch 44/50\n",
      "72/72 [==============================] - 6s 84ms/step - loss: 0.0014\n",
      "Epoch 45/50\n",
      "72/72 [==============================] - 6s 86ms/step - loss: 0.0013\n",
      "Epoch 46/50\n",
      "72/72 [==============================] - 6s 86ms/step - loss: 0.0013\n",
      "Epoch 47/50\n",
      "72/72 [==============================] - 6s 86ms/step - loss: 0.0013\n",
      "Epoch 48/50\n",
      "72/72 [==============================] - 7s 93ms/step - loss: 0.0012\n",
      "Epoch 49/50\n",
      "72/72 [==============================] - 6s 89ms/step - loss: 0.0013\n",
      "Epoch 50/50\n",
      "72/72 [==============================] - 6s 87ms/step - loss: 0.0013\n"
     ]
    },
    {
     "data": {
      "text/plain": [
       "<keras.src.callbacks.History at 0x1f6fd1d7610>"
      ]
     },
     "execution_count": 26,
     "metadata": {},
     "output_type": "execute_result"
    }
   ],
   "source": [
    "model.compile(optimizer = 'adam', loss = 'mean_squared_error')\n",
    "model.fit(x_train, y_train, epochs = 50)"
   ]
  },
  {
   "cell_type": "code",
   "execution_count": 27,
   "id": "f2fd0316-8cf5-40f9-9cf0-fa0b1d6d3524",
   "metadata": {},
   "outputs": [
    {
     "name": "stderr",
     "output_type": "stream",
     "text": [
      "C:\\Users\\suraj\\anaconda3\\Lib\\site-packages\\keras\\src\\engine\\training.py:3103: UserWarning: You are saving your model as an HDF5 file via `model.save()`. This file format is considered legacy. We recommend using instead the native Keras format, e.g. `model.save('my_model.keras')`.\n",
      "  saving_api.save_model(\n"
     ]
    }
   ],
   "source": [
    "model.save('keras_model.h5')"
   ]
  },
  {
   "cell_type": "code",
   "execution_count": 28,
   "id": "1eaf991a-a83d-479f-86d5-ec3c0132d0cd",
   "metadata": {},
   "outputs": [],
   "source": [
    "#sugested model to save"
   ]
  },
  {
   "cell_type": "code",
   "execution_count": 29,
   "id": "45ff0941-8472-459d-8036-22d18f337536",
   "metadata": {},
   "outputs": [],
   "source": [
    "model.save('my_model.keras')"
   ]
  },
  {
   "cell_type": "code",
   "execution_count": 30,
   "id": "262bb00c-72d4-494e-98f2-036e980ff279",
   "metadata": {},
   "outputs": [
    {
     "data": {
      "text/html": [
       "<div>\n",
       "<style scoped>\n",
       "    .dataframe tbody tr th:only-of-type {\n",
       "        vertical-align: middle;\n",
       "    }\n",
       "\n",
       "    .dataframe tbody tr th {\n",
       "        vertical-align: top;\n",
       "    }\n",
       "\n",
       "    .dataframe thead th {\n",
       "        text-align: right;\n",
       "    }\n",
       "</style>\n",
       "<table border=\"1\" class=\"dataframe\">\n",
       "  <thead>\n",
       "    <tr style=\"text-align: right;\">\n",
       "      <th></th>\n",
       "      <th>4. close</th>\n",
       "    </tr>\n",
       "  </thead>\n",
       "  <tbody>\n",
       "    <tr>\n",
       "      <th>2380</th>\n",
       "      <td>215.40</td>\n",
       "    </tr>\n",
       "    <tr>\n",
       "      <th>2381</th>\n",
       "      <td>217.16</td>\n",
       "    </tr>\n",
       "    <tr>\n",
       "      <th>2382</th>\n",
       "      <td>219.58</td>\n",
       "    </tr>\n",
       "    <tr>\n",
       "      <th>2383</th>\n",
       "      <td>226.70</td>\n",
       "    </tr>\n",
       "    <tr>\n",
       "      <th>2384</th>\n",
       "      <td>218.13</td>\n",
       "    </tr>\n",
       "  </tbody>\n",
       "</table>\n",
       "</div>"
      ],
      "text/plain": [
       "      4. close\n",
       "2380    215.40\n",
       "2381    217.16\n",
       "2382    219.58\n",
       "2383    226.70\n",
       "2384    218.13"
      ]
     },
     "execution_count": 30,
     "metadata": {},
     "output_type": "execute_result"
    }
   ],
   "source": [
    "data_testing.head()"
   ]
  },
  {
   "cell_type": "code",
   "execution_count": 31,
   "id": "c6e4b227-f162-4aa5-8fd9-eb61bb758b76",
   "metadata": {},
   "outputs": [
    {
     "data": {
      "text/html": [
       "<div>\n",
       "<style scoped>\n",
       "    .dataframe tbody tr th:only-of-type {\n",
       "        vertical-align: middle;\n",
       "    }\n",
       "\n",
       "    .dataframe tbody tr th {\n",
       "        vertical-align: top;\n",
       "    }\n",
       "\n",
       "    .dataframe thead th {\n",
       "        text-align: right;\n",
       "    }\n",
       "</style>\n",
       "<table border=\"1\" class=\"dataframe\">\n",
       "  <thead>\n",
       "    <tr style=\"text-align: right;\">\n",
       "      <th></th>\n",
       "      <th>4. close</th>\n",
       "    </tr>\n",
       "  </thead>\n",
       "  <tbody>\n",
       "    <tr>\n",
       "      <th>0</th>\n",
       "      <td>248.48</td>\n",
       "    </tr>\n",
       "    <tr>\n",
       "      <th>1</th>\n",
       "      <td>253.18</td>\n",
       "    </tr>\n",
       "    <tr>\n",
       "      <th>2</th>\n",
       "      <td>261.44</td>\n",
       "    </tr>\n",
       "    <tr>\n",
       "      <th>3</th>\n",
       "      <td>256.61</td>\n",
       "    </tr>\n",
       "    <tr>\n",
       "      <th>4</th>\n",
       "      <td>252.54</td>\n",
       "    </tr>\n",
       "  </tbody>\n",
       "</table>\n",
       "</div>"
      ],
      "text/plain": [
       "   4. close\n",
       "0    248.48\n",
       "1    253.18\n",
       "2    261.44\n",
       "3    256.61\n",
       "4    252.54"
      ]
     },
     "execution_count": 31,
     "metadata": {},
     "output_type": "execute_result"
    }
   ],
   "source": [
    "data_training.head()"
   ]
  },
  {
   "cell_type": "code",
   "execution_count": 32,
   "id": "af9d8978-a5ef-4cab-9b83-f01ac358f330",
   "metadata": {},
   "outputs": [],
   "source": [
    "past_100_days = data_training.tail(100)"
   ]
  },
  {
   "cell_type": "code",
   "execution_count": 33,
   "id": "322aa8d0-bd7f-4835-a8b8-645e85693cb1",
   "metadata": {},
   "outputs": [],
   "source": [
    "final_df = past_100_days._append(data_testing, ignore_index = True)"
   ]
  },
  {
   "cell_type": "code",
   "execution_count": 34,
   "id": "82da20fe-f800-4998-b951-b22241ceb4f5",
   "metadata": {},
   "outputs": [
    {
     "data": {
      "text/html": [
       "<div>\n",
       "<style scoped>\n",
       "    .dataframe tbody tr th:only-of-type {\n",
       "        vertical-align: middle;\n",
       "    }\n",
       "\n",
       "    .dataframe tbody tr th {\n",
       "        vertical-align: top;\n",
       "    }\n",
       "\n",
       "    .dataframe thead th {\n",
       "        text-align: right;\n",
       "    }\n",
       "</style>\n",
       "<table border=\"1\" class=\"dataframe\">\n",
       "  <thead>\n",
       "    <tr style=\"text-align: right;\">\n",
       "      <th></th>\n",
       "      <th>4. close</th>\n",
       "    </tr>\n",
       "  </thead>\n",
       "  <tbody>\n",
       "    <tr>\n",
       "      <th>0</th>\n",
       "      <td>214.36</td>\n",
       "    </tr>\n",
       "    <tr>\n",
       "      <th>1</th>\n",
       "      <td>223.71</td>\n",
       "    </tr>\n",
       "    <tr>\n",
       "      <th>2</th>\n",
       "      <td>228.28</td>\n",
       "    </tr>\n",
       "    <tr>\n",
       "      <th>3</th>\n",
       "      <td>229.30</td>\n",
       "    </tr>\n",
       "    <tr>\n",
       "      <th>4</th>\n",
       "      <td>231.43</td>\n",
       "    </tr>\n",
       "  </tbody>\n",
       "</table>\n",
       "</div>"
      ],
      "text/plain": [
       "   4. close\n",
       "0    214.36\n",
       "1    223.71\n",
       "2    228.28\n",
       "3    229.30\n",
       "4    231.43"
      ]
     },
     "execution_count": 34,
     "metadata": {},
     "output_type": "execute_result"
    }
   ],
   "source": [
    "final_df.head()"
   ]
  },
  {
   "cell_type": "code",
   "execution_count": 35,
   "id": "a40922c8-0aa7-48b9-9640-5576d31c0765",
   "metadata": {
    "scrolled": true
   },
   "outputs": [
    {
     "data": {
      "text/plain": [
       "array([[0.73475429],\n",
       "       [0.76935317],\n",
       "       [0.78626406],\n",
       "       ...,\n",
       "       [0.02279455],\n",
       "       [0.02971433],\n",
       "       [0.02993635]])"
      ]
     },
     "execution_count": 35,
     "metadata": {},
     "output_type": "execute_result"
    }
   ],
   "source": [
    "input_data = scaler.fit_transform(final_df)\n",
    "input_data"
   ]
  },
  {
   "cell_type": "code",
   "execution_count": 36,
   "id": "d6bf8ff8-6482-4640-a896-7548409c28ec",
   "metadata": {},
   "outputs": [
    {
     "data": {
      "text/plain": [
       "(1120, 1)"
      ]
     },
     "execution_count": 36,
     "metadata": {},
     "output_type": "execute_result"
    }
   ],
   "source": [
    "input_data.shape"
   ]
  },
  {
   "cell_type": "code",
   "execution_count": 37,
   "id": "7233bc07-cb21-4e56-93e1-b7fa8995940c",
   "metadata": {},
   "outputs": [],
   "source": [
    "x_test = []\n",
    "y_test = []\n",
    "\n",
    "for i in range(100, input_data.shape[0]):\n",
    "    x_test.append(input_data[i-100: i])\n",
    "    y_test.append(input_data[i,0])"
   ]
  },
  {
   "cell_type": "code",
   "execution_count": 38,
   "id": "903235dc-0862-4105-85e6-2336e029e4e8",
   "metadata": {},
   "outputs": [
    {
     "name": "stdout",
     "output_type": "stream",
     "text": [
      "(1020, 100, 1)\n",
      "(1020,)\n"
     ]
    }
   ],
   "source": [
    "x_test , y_test = np.array(x_test), np.array(y_test)\n",
    "print(x_test.shape)\n",
    "print(y_test.shape)"
   ]
  },
  {
   "cell_type": "code",
   "execution_count": 39,
   "id": "b3962a78-dd6d-4de7-a920-7349944def7f",
   "metadata": {},
   "outputs": [
    {
     "name": "stdout",
     "output_type": "stream",
     "text": [
      "32/32 [==============================] - 1s 29ms/step\n"
     ]
    }
   ],
   "source": [
    "#making prediction\n",
    "\n",
    "y_predicted = model.predict(x_test)"
   ]
  },
  {
   "cell_type": "code",
   "execution_count": 40,
   "id": "607f2444-e73f-45ec-9df8-155bbb3e0e68",
   "metadata": {},
   "outputs": [
    {
     "data": {
      "text/plain": [
       "(1020, 1)"
      ]
     },
     "execution_count": 40,
     "metadata": {},
     "output_type": "execute_result"
    }
   ],
   "source": [
    "y_predicted.shape"
   ]
  },
  {
   "cell_type": "code",
   "execution_count": 41,
   "id": "aab71977-2d42-4bcd-8e9f-8f456419fada",
   "metadata": {
    "scrolled": true
   },
   "outputs": [
    {
     "data": {
      "text/plain": [
       "array([0.73860272, 0.74511545, 0.75407046, ..., 0.02279455, 0.02971433,\n",
       "       0.02993635])"
      ]
     },
     "execution_count": 41,
     "metadata": {},
     "output_type": "execute_result"
    }
   ],
   "source": [
    "y_test"
   ]
  },
  {
   "cell_type": "code",
   "execution_count": 42,
   "id": "dfb2f814-3452-4fe8-89a3-f89c5558441a",
   "metadata": {
    "scrolled": true
   },
   "outputs": [
    {
     "data": {
      "text/plain": [
       "array([[0.6510591 ],\n",
       "       [0.6446492 ],\n",
       "       [0.642162  ],\n",
       "       ...,\n",
       "       [0.02656069],\n",
       "       [0.02592283],\n",
       "       [0.02580882]], dtype=float32)"
      ]
     },
     "execution_count": 42,
     "metadata": {},
     "output_type": "execute_result"
    }
   ],
   "source": [
    "y_predicted"
   ]
  },
  {
   "cell_type": "code",
   "execution_count": 43,
   "id": "73a29486-2f4d-4f05-a3b4-020ae37d0a30",
   "metadata": {},
   "outputs": [
    {
     "data": {
      "text/plain": [
       "array([0.00370041])"
      ]
     },
     "execution_count": 43,
     "metadata": {},
     "output_type": "execute_result"
    }
   ],
   "source": [
    "scaler.scale_"
   ]
  },
  {
   "cell_type": "code",
   "execution_count": 44,
   "id": "f9904245-3286-4bd5-ac85-4f18bb866043",
   "metadata": {},
   "outputs": [],
   "source": [
    "scale_factor = 1/0.00571102\n",
    "y_predicted = y_predicted * scale_factor\n",
    "y_test = y_test * scale_factor"
   ]
  },
  {
   "cell_type": "code",
   "execution_count": 45,
   "id": "df032d5f-fed7-4d27-be85-fd98fbcf37e7",
   "metadata": {
    "scrolled": true
   },
   "outputs": [
    {
     "data": {
      "image/png": "[encoded data removed]",
      "text/plain": [
       "<Figure size 1200x600 with 1 Axes>"
      ]
     },
     "metadata": {},
     "output_type": "display_data"
    }
   ],
   "source": [
    "plt.figure(figsize=(12,6))\n",
    "plt.plot(y_test, 'b', label = 'Orginal Price')\n",
    "plt.plot(y_predicted, 'r', label = 'Predicted Price')\n",
    "plt.xlabel('Time')\n",
    "plt.ylabel('Price')\n",
    "plt.legend()\n",
    "plt.show()"
   ]
  }
 ],
 "metadata": {
  "kernelspec": {
   "display_name": "Python 3 (ipykernel)",
   "language": "python",
   "name": "python3"
  },
  "language_info": {
   "codemirror_mode": {
    "name": "ipython",
    "version": 3
   },
   "file_extension": ".py",
   "mimetype": "text/x-python",
   "name": "python",
   "nbconvert_exporter": "python",
   "pygments_lexer": "ipython3",
   "version": "3.11.5"
  }
 },
 "nbformat": 4,
 "nbformat_minor": 5
}
